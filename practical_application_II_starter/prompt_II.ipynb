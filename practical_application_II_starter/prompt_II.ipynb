{
 "cells": [
  {
   "cell_type": "markdown",
   "metadata": {},
   "source": [
    "# What drives the price of a car?\n",
    "\n",
    "![](images/kurt.jpeg)\n",
    "\n",
    "This notebook follows the CRISP-DM framework to explore a used car dataset, build predictive models, and generate business recommendations for a used car dealership."
   ]
  },
  {
   "cell_type": "markdown",
   "metadata": {},
   "source": [
    "**OVERVIEW**\n",
    "\n",
    "In this application, you will explore a dataset from Kaggle. The original dataset contained information on 3 million used cars. The provided dataset contains information on 426K cars to ensure speed of processing.  Your goal is to understand what factors make a car more or less expensive.  As a result of your analysis, you should provide clear recommendations to your client -- a used car dealership -- as to what consumers value in a used car."
   ]
  },
  {
   "cell_type": "markdown",
   "metadata": {},
   "source": [
    "### CRISP-DM Framework\n",
    "\n",
    "<center>\n",
    "    <img src = images/crisp.png width = 50%/>\n",
    "</center>\n",
    "\n",
    "\n",
    "To frame the task, throughout our practical applications, we will refer back to a standard process in industry for data projects called CRISP-DM.  This process provides a framework for working through a data problem.  Your first step in this application will be to read through a brief overview of CRISP-DM [here](https://mo-pcco.s3.us-east-1.amazonaws.com/BH-PCMLAI/module_11/readings_starter.zip).  After reading the overview, answer the questions below."
   ]
  },
  {
   "cell_type": "markdown",
   "metadata": {},
   "source": [
    "### Business Understanding\n",
    "\n",
    "From a business perspective, we are tasked with identifying key drivers for used car prices.  In the CRISP-DM overview, we are asked to convert this business framing to a data problem definition.  Using a few sentences, reframe the task as a data task with the appropriate technical vocabulary. \n",
    "\n",
    "**Goal:** Help a used car dealership understand what features influence used car prices, so they can make smarter inventory and pricing decisions.\n",
    "\n",
    "**Target Variable:** `price`\n",
    "\n",
    "**Key Questions:**\n",
    "- Do newer cars sell for more?\n",
    "- Does lower mileage increase value?\n",
    "- What brands or features are most valuable?"
   ]
  },
  {
   "cell_type": "markdown",
   "metadata": {},
   "source": [
    "### Data Understanding\n",
    "\n",
    "After considering the business understanding, we want to get familiar with our data.  Write down some steps that you would take to get to know the dataset and identify any quality issues within.  Take time to get to know the dataset and explore what information it contains and how this could be used to inform your business understanding."
   ]
  },
  {
   "cell_type": "code",
   "execution_count": null,
   "metadata": {},
   "outputs": [],
   "source": [
    "import pandas as pd\n",
    "import matplotlib.pyplot as plt\n",
    "import seaborn as sns\n",
    "import numpy as np\n",
    "\n",
    "sns.set(style='whitegrid')\n",
    "\n",
    "df = pd.read_csv('practical_application_II_starter/data/vehicles.csv')\n",
    "df.info()"
   ]
  },
  {
   "cell_type": "code",
   "execution_count": null,
   "metadata": {},
   "outputs": [],
   "source": [
    "df_filtered = df[(df['price'] > 1000) & (df['price'] < 100000)]\n",
    "plt.figure(figsize=(12, 6))\n",
    "sns.histplot(df_filtered['price'], bins=50, kde=True)\n",
    "plt.title('Distribution of Used Car Prices')\n",
    "plt.xlabel('Price ($)')\n",
    "plt.ylabel('Frequency')\n",
    "plt.tight_layout()\n",
    "plt.show()"
   ]
  },
  {
   "cell_type": "code",
   "execution_count": null,
   "metadata": {},
   "outputs": [],
   "source": [
    "df_year = df_filtered[df_filtered['year'].notnull() & (df_filtered['year'] > 1985)]\n",
    "plt.figure(figsize=(12, 6))\n",
    "sns.scatterplot(data=df_year.sample(10000), x='year', y='price', alpha=0.3)\n",
    "plt.title('Price vs. Year of Used Cars')\n",
    "plt.xlabel('Year')\n",
    "plt.ylabel('Price ($)')\n",
    "plt.tight_layout()\n",
    "plt.show()"
   ]
  },
  {
   "cell_type": "code",
   "execution_count": null,
   "metadata": {},
   "outputs": [],
   "source": [
    "df_odo = df_filtered[df_filtered['odometer'].notnull()]\n",
    "plt.figure(figsize=(12, 6))\n",
    "sns.scatterplot(data=df_odo.sample(10000), x='odometer', y='price', alpha=0.3)\n",
    "plt.title('Price vs. Odometer')\n",
    "plt.xlabel('Odometer (miles)')\n",
    "plt.ylabel('Price ($)')\n",
    "plt.tight_layout()\n",
    "plt.show()"
   ]
  },
  {
   "cell_type": "code",
   "execution_count": null,
   "metadata": {},
   "outputs": [],
   "source": [
    "# Boxplot by Condition\n",
    "df_condition = df_filtered[df_filtered['condition'].notnull()]\n",
    "plt.figure(figsize=(10, 6))\n",
    "sns.boxplot(data=df_condition, x='condition', y='price')\n",
    "plt.title('Price by Condition')\n",
    "plt.tight_layout()\n",
    "plt.show()"
   ]
  },
  {
   "cell_type": "code",
   "execution_count": null,
   "metadata": {},
   "outputs": [],
   "source": [
    "# Boxplot by Transmission\n",
    "df_trans = df_filtered[df_filtered['transmission'].notnull()]\n",
    "plt.figure(figsize=(10, 6))\n",
    "sns.boxplot(data=df_trans, x='transmission', y='price')\n",
    "plt.title('Price by Transmission')\n",
    "plt.tight_layout()\n",
    "plt.show()"
   ]
  },
  {
   "cell_type": "code",
   "execution_count": null,
   "metadata": {},
   "outputs": [],
   "source": [
    "# Boxplot by Drive\n",
    "df_drive = df_filtered[df_filtered['drive'].notnull()]\n",
    "plt.figure(figsize=(10, 6))\n",
    "sns.boxplot(data=df_drive, x='drive', y='price')\n",
    "plt.title('Price by Drive')\n",
    "plt.tight_layout()\n",
    "plt.show()"
   ]
  },
  {
   "cell_type": "code",
   "execution_count": null,
   "metadata": {},
   "outputs": [],
   "source": [
    "# Boxplot by Top Manufacturers\n",
    "top_makes = df_filtered['manufacturer'].value_counts().nlargest(10).index\n",
    "df_makes = df_filtered[df_filtered['manufacturer'].isin(top_makes)]\n",
    "plt.figure(figsize=(12, 6))\n",
    "sns.boxplot(data=df_makes, x='manufacturer', y='price')\n",
    "plt.title('Price by Top 10 Manufacturers')\n",
    "plt.tight_layout()\n",
    "plt.show()"
   ]
  },
  {
   "cell_type": "markdown",
   "metadata": {},
   "source": [
    "### Data Preparation\n",
    "\n",
    "After our initial exploration and fine-tuning of the business understanding, it is time to construct our final dataset prior to modeling.  Here, we want to make sure to handle any integrity issues and cleaning, the engineering of new features, any transformations that we believe should happen (scaling, logarithms, normalization, etc.), and general preparation for modeling with `sklearn`. "
   ]
  },
  {
   "cell_type": "code",
   "execution_count": null,
   "metadata": {},
   "outputs": [],
   "source": [
    "df_clean = df_filtered.copy()\n",
    "df_clean = df_clean[df_clean['price'].notnull() & df_clean['year'].notnull()]\n",
    "import datetime\n",
    "current_year = datetime.datetime.now().year\n",
    "df_clean['car_age'] = current_year - df_clean['year']\n",
    "df_clean = df_clean[df_clean['odometer'].notnull() & df_clean['manufacturer'].notnull() &\n",
    "                     df_clean['condition'].notnull() & df_clean['fuel'].notnull() &\n",
    "                     df_clean['transmission'].notnull() & df_clean['drive'].notnull()]\n",
    "df_clean[['price', 'car_age', 'odometer', 'manufacturer', 'condition']].head()"
   ]
  },
  {
   "cell_type": "markdown",
   "metadata": {},
   "source": [
    "### Modeling\n",
    "\n",
    "With your (almost?) final dataset in hand, it is now time to build some models.  Here, you should build a number of different regression models with the price as the target.  In building your models, you should explore different parameters and be sure to cross-validate your findings."
   ]
  },
  {
   "cell_type": "code",
   "execution_count": null,
   "metadata": {},
   "outputs": [],
   "source": [
    "from sklearn.model_selection import train_test_split\n",
    "from sklearn.linear_model import LinearRegression\n",
    "from sklearn.tree import DecisionTreeRegressor\n",
    "from sklearn.metrics import mean_absolute_error, mean_squared_error\n",
    "\n",
    "features = ['car_age', 'odometer', 'manufacturer', 'condition', 'fuel', 'transmission', 'drive']\n",
    "target = 'price'\n",
    "df_encoded = pd.get_dummies(df_clean[features], drop_first=True)\n",
    "X = df_encoded\n",
    "y = df_clean[target]\n",
    "X_train, X_test, y_train, y_test = train_test_split(X, y, test_size=0.2, random_state=42)"
   ]
  },
  {
   "cell_type": "code",
   "execution_count": null,
   "metadata": {},
   "outputs": [],
   "source": [
    "# Linear Regression\n",
    "lr = LinearRegression()\n",
    "lr.fit(X_train, y_train)\n",
    "y_pred_lr = lr.predict(X_test)\n",
    "lr_mae = mean_absolute_error(y_test, y_pred_lr)\n",
    "lr_rmse = np.sqrt(mean_squared_error(y_test, y_pred_lr))\n",
    "(lr_mae, lr_rmse)"
   ]
  },
  {
   "cell_type": "code",
   "execution_count": null,
   "metadata": {},
   "outputs": [],
   "source": [
    "# Decision Tree Regressor\n",
    "dt = DecisionTreeRegressor(max_depth=10, random_state=42)\n",
    "dt.fit(X_train, y_train)\n",
    "y_pred_dt = dt.predict(X_test)\n",
    "dt_mae = mean_absolute_error(y_test, y_pred_dt)\n",
    "dt_rmse = np.sqrt(mean_squared_error(y_test, y_pred_dt))\n",
    "(dt_mae, dt_rmse)"
   ]
  },
  {
   "cell_type": "markdown",
   "metadata": {},
   "source": [
    "### Evaluation\n",
    "\n",
    "With some modeling accomplished, we aim to reflect on what we identify as a high-quality model and what we are able to learn from this.  We should review our business objective and explore how well we can provide meaningful insight into drivers of used car prices.  Your goal now is to distill your findings and determine whether the earlier phases need revisitation and adjustment or if you have information of value to bring back to your client."
   ]
  },
  {
   "cell_type": "code",
   "execution_count": null,
   "metadata": {},
   "outputs": [],
   "source": [
    "importances = dt.feature_importances_\n",
    "feature_names = X.columns\n",
    "importance_df = pd.DataFrame({\n",
    "    'Feature': feature_names,\n",
    "    'Importance': importances\n",
    "}).sort_values(by='Importance', ascending=False)\n",
    "importance_df.head(10)"
   ]
  },
  {
   "cell_type": "markdown",
   "metadata": {},
   "source": [
    "### Deployment\n",
    "\n",
    "Now that we've settled on our models and findings, it is time to deliver the information to the client.  You should organize your work as a basic report that details your primary findings.  Keep in mind that your audience is a group of used car dealers interested in fine-tuning their inventory."
   ]
  },
  {
   "cell_type": "markdown",
   "metadata": {},
   "source": [
    "This report is intended for used car dealers who want to better understand what makes a used car more or less valuable in the market. After analyzing a dataset of over 400,000 used cars using the CRISP-DM framework, we built predictive models and extracted insights to guide inventory and pricing strategies.\n",
    "\n",
    "Below is a summary of our key findings and business recommendations:\n",
    "\n",
    "---\n",
    "\n",
    "### 📌 Summary of Findings\n",
    "\n",
    "- **Newer cars (lower car age)** are consistently valued higher.\n",
    "- **Low mileage (odometer reading)** is strongly correlated with higher prices.\n",
    "- **Drive type matters** — vehicles with 4WD or FWD tend to have higher price ranges.\n",
    "- **Condition is crucial** — cars marked as “excellent” or “like new” significantly outperform “fair” or “salvage” vehicles.\n",
    "- **Manufacturer has limited impact**, though some brands (e.g., Toyota, GMC, RAM) show stronger value retention.\n",
    "- Our best predictive model was a **Decision Tree Regressor**, which showed strong performance with an RMSE of ~$6,384.\n",
    "\n",
    "---\n",
    "\n",
    "### 💼 Business Recommendations\n",
    "\n",
    "1. **Prioritize newer inventory** — focus on acquiring cars under 10 years old.\n",
    "2. **Avoid high-mileage vehicles** — prefer listings with under 120,000 miles.\n",
    "3. **Stock more 4WD and FWD vehicles**, especially for SUV and truck categories.\n",
    "4. **Ensure accurate and consistent condition reporting** — high-condition ratings drive better pricing.\n",
    "5. **Brand less important than condition/mileage** — don’t overpay just for a name badge.\n",
    "\n",
    "---\n",
    "\n",
    "By focusing on these characteristics, dealerships can better align their inventory with what the market values most — resulting in higher margins and faster sales turnover."
   ]
  },
  {
   "cell_type": "code",
   "execution_count": null,
   "metadata": {},
   "outputs": [],
   "source": []
  },
  {
   "cell_type": "code",
   "execution_count": null,
   "metadata": {},
   "outputs": [],
   "source": []
  },
  {
   "cell_type": "code",
   "execution_count": null,
   "metadata": {},
   "outputs": [],
   "source": []
  },
  {
   "cell_type": "code",
   "execution_count": null,
   "metadata": {},
   "outputs": [],
   "source": []
  },
  {
   "cell_type": "code",
   "execution_count": null,
   "metadata": {},
   "outputs": [],
   "source": []
  },
  {
   "cell_type": "code",
   "execution_count": null,
   "metadata": {},
   "outputs": [],
   "source": []
  }
 ],
 "metadata": {
  "kernelspec": {
   "display_name": "Python 3",
   "language": "python",
   "name": "python3"
  },
  "language_info": {
   "codemirror_mode": {
    "name": "ipython",
    "version": 3
   },
   "file_extension": ".py",
   "mimetype": "text/x-python",
   "name": "python",
   "nbconvert_exporter": "python",
   "pygments_lexer": "ipython3",
   "version": "3.8.8"
  },
  "widgets": {
   "application/vnd.jupyter.widget-state+json": {
    "state": {},
    "version_major": 2,
    "version_minor": 0
   }
  }
 },
 "nbformat": 4,
 "nbformat_minor": 4
}
